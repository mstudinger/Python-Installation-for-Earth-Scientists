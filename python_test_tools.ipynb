{
 "cells": [
  {
   "cell_type": "markdown",
   "id": "9d011ac6-e92d-40ac-bcfa-52ac75002628",
   "metadata": {},
   "source": [
    "# <center>Python Installation Instructions and Verification</center>"
   ]
  },
  {
   "cell_type": "markdown",
   "id": "4e3fceaf-e262-4988-bfb9-57df0318fd8a",
   "metadata": {},
   "source": [
    "### 1) Get name of computer and operating system information"
   ]
  },
  {
   "cell_type": "code",
   "execution_count": 1,
   "id": "d7b39f4f-db69-4977-99ec-31d8cb191f64",
   "metadata": {},
   "outputs": [
    {
     "name": "stdout",
     "output_type": "stream",
     "text": [
      "\n",
      "----------------------- Platform and Operating System ------------------------\n",
      "\n",
      "Computer:            ALETSCH-V\n",
      "Operating system:    Windows NT Release: 10\n"
     ]
    }
   ],
   "source": [
    "# get computer name and OS\n",
    "import os\n",
    "import socket\n",
    "import platform\n",
    "\n",
    "width_output = 78 # number of characters for output \n",
    "\n",
    "str_title = ' Platform and Operating System '\n",
    "str_title = str_title.center(width_output, \"-\")\n",
    "print(\"\\n\" + str_title + \"\\n\")\n",
    "\n",
    "print(f'Computer:            {socket.gethostname():s}')\n",
    "print(f'Operating system:    {platform.system():s} {os.name.upper():s} Release: {platform.release():s}')"
   ]
  },
  {
   "cell_type": "markdown",
   "id": "7c263f5d-76e6-4c43-9bfb-21ab72da518f",
   "metadata": {},
   "source": [
    "### 2) Get Python™ version"
   ]
  },
  {
   "cell_type": "code",
   "execution_count": 2,
   "id": "7956214b-c46d-467f-87bb-ffe9f8432bd0",
   "metadata": {},
   "outputs": [
    {
     "name": "stdout",
     "output_type": "stream",
     "text": [
      "\n",
      "---------------------- Python Version and Installation -----------------------\n",
      "\n",
      "Python version:      3.11.7\n",
      "Python installation: 3.11.7 packaged by Anaconda, Inc.\n",
      "                     (main, Dec 15 2023, 18:05:47) [MSC v.1916 64 bit (AMD64)]\n"
     ]
    }
   ],
   "source": [
    "import sys\n",
    "\n",
    "python_version        = sys.version\n",
    "python_version_detail = python_version.split(\" | \",-1) # -1 gets all occurences. can set max number of splits\n",
    "\n",
    "str_title = ' Python Version and Installation '\n",
    "str_title = str_title.center(width_output, \"-\")\n",
    "print(\"\\n\" + str_title + \"\\n\")\n",
    "\n",
    "print(f'Python version:      {sys.version_info.major:d}.{sys.version_info.minor:d}.{sys.version_info.micro:d}')\n",
    "print(f'Python installation: {python_version_detail[0]:s} {python_version_detail[1]:s}')\n",
    "print(f'                     {python_version_detail[2]:s}')"
   ]
  },
  {
   "cell_type": "markdown",
   "id": "a3d4ab18-9312-4af3-8ba7-40f120054702",
   "metadata": {},
   "source": [
    "### 3) Verify GeoPandas and gdal installations"
   ]
  },
  {
   "cell_type": "code",
   "execution_count": 3,
   "id": "768bb1ae-4e33-4898-93cc-b3b9fd6e4ba2",
   "metadata": {},
   "outputs": [],
   "source": [
    "# conda install geopandas"
   ]
  },
  {
   "cell_type": "markdown",
   "id": "68870a12-7304-4375-9695-9efbb9710db5",
   "metadata": {},
   "source": [
    "### 4) Verify OpenCV installation"
   ]
  },
  {
   "cell_type": "code",
   "execution_count": 4,
   "id": "c0399125-e85a-4d8f-8a01-2122af1b9103",
   "metadata": {},
   "outputs": [
    {
     "name": "stdout",
     "output_type": "stream",
     "text": [
      "\n",
      "----------------------------------- OpenCV -----------------------------------\n",
      "\n",
      "OpenCV version:      4.9.0\n",
      "Test image:          3264 × 4896 pixels\n"
     ]
    }
   ],
   "source": [
    "\"\"\"\n",
    "    see: https://opencv.org/get-started/\n",
    "    pip3 install opencv-python\\\n",
    "    -> Successfully installed opencv-python-4.9.0.80\n",
    "    TODO: unclear if .dll needs to be copied as described in link above \n",
    "\"\"\"\n",
    "\n",
    "import cv2 as cv2\n",
    "\n",
    "f_name_jpg = r\".\" + os.sep + \"test_data\" + os.sep + \"JPEG\" + os.sep + \"IOCAM0_2019_GR_NASA_20190506-131614.4217.jpg\"\n",
    "image_bgr  = cv2.imread(f_name_jpg)\n",
    "# image      = cv2.cvtColor(image_bgr, cv2.COLOR_BGR2RGB)\n",
    "img_size   = image_bgr.shape\n",
    " \n",
    "str_title = ' OpenCV '\n",
    "str_title = str_title.center(width_output, \"-\")\n",
    "print(\"\\n\" + str_title + \"\\n\")\n",
    "print(f'OpenCV version:      {cv2.__version__:s}')\n",
    "print(f'Test image:          {img_size[0]:d} × {img_size[1]:d} pixels')"
   ]
  },
  {
   "cell_type": "markdown",
   "id": "b193f8c5-b441-479e-b669-1ad46bc06775",
   "metadata": {},
   "source": [
    "### 5) Verify Pytorch, Torchvision, and Torchaudio CPU only installation"
   ]
  },
  {
   "cell_type": "code",
   "execution_count": 5,
   "id": "72c6bd8a-cdb4-4d0f-9418-b532ea1d93bc",
   "metadata": {},
   "outputs": [
    {
     "name": "stdout",
     "output_type": "stream",
     "text": [
      "PyTorch version: 2.3.0\n",
      "Torchvision version: 0.18.0\n",
      "CUDA is available: False\n",
      "\n",
      "--------------------------- PyTorch & TorchVision ----------------------------\n",
      "\n",
      "PyTorch     version: 2.3.0\n",
      "Torchvision version: 0.18.0\n",
      "Processing  support: CPU\n"
     ]
    }
   ],
   "source": [
    "\"\"\"\n",
    "The SAM Python™ module requires PyTorch and TorchVision. The SAM installation instructions recommend installing\n",
    "both packages with CUDA support, however, if that causes error messages the solution is often to install\n",
    "both packages without CUDA support.\n",
    "\n",
    "    Recommended installation with CUDA support:\n",
    "    > conda install pytorch torchvision torchaudio pytorch-cuda=11.8 -c pytorch -c nvidia\n",
    "    Installation without CUDA support (CPU only):\n",
    "    > conda install pytorch torchvision torchaudio cpuonly -c pytorch\n",
    "    To install the SAM Python™ module use (see below):\n",
    "    pip install git+https://github.com/facebookresearch/segment-anything.git\n",
    "\n",
    "\"\"\"\n",
    "# verify the installation and check for CUDA support:\n",
    "\n",
    "import torch\n",
    "import torchvision\n",
    "print(\"PyTorch version:\", torch.__version__)\n",
    "print(\"Torchvision version:\", torchvision.__version__)\n",
    "print(\"CUDA is available:\", torch.cuda.is_available())\n",
    "\n",
    "# determine which processing unit to use\n",
    "if torch.cuda.is_available():\n",
    "    processing_unit = \"cuda\" # use graphics processing unit (GPU)\n",
    "else:    \n",
    "    processing_unit = \"cpu\"  # use central processing unit (CPU)\n",
    "    \n",
    "str_title = ' PyTorch & TorchVision '\n",
    "str_title = str_title.center(width_output, \"-\")\n",
    "print(\"\\n\" + str_title + \"\\n\")\n",
    "print(f'PyTorch     version: {torch.__version__:s}')\n",
    "print(f'Torchvision version: {torchvision.__version__:s}')\n",
    "print(f'Processing  support: {processing_unit.upper():s}')\n"
   ]
  },
  {
   "cell_type": "markdown",
   "id": "606f1a5d-e5f0-45e0-8f0f-e637620fb1f1",
   "metadata": {},
   "source": [
    "### 6) Verify Segment Anything Module (SAM) installation and import"
   ]
  },
  {
   "cell_type": "code",
   "execution_count": 6,
   "id": "1cb2c4c0-13dc-4c23-9822-8b80da2f0387",
   "metadata": {},
   "outputs": [
    {
     "name": "stdout",
     "output_type": "stream",
     "text": [
      "\n",
      "------------------------ Segment Anything Model (SAM) ------------------------\n",
      "\n",
      "Segment Anything:    segment_anything module is imported and in the sys.modules dictionary\n"
     ]
    }
   ],
   "source": [
    "\"\"\"\n",
    "    The SAM Python™ module requires PyTorch and TorchVision (see Section 5 above).\n",
    "    To install the SAM Python™ module use:\n",
    "    pip install git+https://github.com/facebookresearch/segment-anything.git\n",
    "\"\"\"\n",
    "\n",
    "import segment_anything\n",
    "    \n",
    "str_title = ' Segment Anything Model (SAM) '\n",
    "str_title = str_title.center(width_output, \"-\")\n",
    "print(\"\\n\" + str_title + \"\\n\")\n",
    "\n",
    "modulename = 'segment_anything'\n",
    "if modulename not in sys.modules:\n",
    "    print(f'Segment Anything:    ERROR: {modulename:s} module is unavailable')\n",
    "else:\n",
    "    print(f'Segment Anything:    {modulename:s} module is imported and in the sys.modules dictionary')"
   ]
  },
  {
   "cell_type": "code",
   "execution_count": null,
   "id": "bc46f20d-7e14-4f10-af6c-59a8e28efdfc",
   "metadata": {},
   "outputs": [],
   "source": []
  }
 ],
 "metadata": {
  "kernelspec": {
   "display_name": "Python 3 (ipykernel)",
   "language": "python",
   "name": "python3"
  },
  "language_info": {
   "codemirror_mode": {
    "name": "ipython",
    "version": 3
   },
   "file_extension": ".py",
   "mimetype": "text/x-python",
   "name": "python",
   "nbconvert_exporter": "python",
   "pygments_lexer": "ipython3",
   "version": "3.11.7"
  }
 },
 "nbformat": 4,
 "nbformat_minor": 5
}
