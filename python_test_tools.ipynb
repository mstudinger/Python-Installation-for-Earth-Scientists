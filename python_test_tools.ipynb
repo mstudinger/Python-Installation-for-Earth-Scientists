{
 "cells": [
  {
   "cell_type": "markdown",
   "id": "9d011ac6-e92d-40ac-bcfa-52ac75002628",
   "metadata": {},
   "source": [
    "# <center>Python Installation Instructions and Verification</center>"
   ]
  },
  {
   "cell_type": "markdown",
   "id": "4e3fceaf-e262-4988-bfb9-57df0318fd8a",
   "metadata": {},
   "source": [
    "### 1) Get name of computer and operating system information"
   ]
  },
  {
   "cell_type": "code",
   "execution_count": 1,
   "id": "d7b39f4f-db69-4977-99ec-31d8cb191f64",
   "metadata": {},
   "outputs": [
    {
     "name": "stdout",
     "output_type": "stream",
     "text": [
      "\n",
      "----------------------- Platform and Operating System ------------------------\n",
      "\n",
      "Computer:            ALETSCH-V\n",
      "Operating system:    Windows NT Release: 10\n"
     ]
    }
   ],
   "source": [
    "# get computer name and OS\n",
    "import os\n",
    "import socket\n",
    "import platform\n",
    "\n",
    "width_output = 78 # number of characters for output \n",
    "\n",
    "str_title = ' Platform and Operating System '\n",
    "str_title = str_title.center(width_output, \"-\")\n",
    "print(\"\\n\" + str_title + \"\\n\")\n",
    "\n",
    "print(f'Computer:            {socket.gethostname():s}')\n",
    "print(f'Operating system:    {platform.system():s} {os.name.upper():s} Release: {platform.release():s}')"
   ]
  },
  {
   "cell_type": "markdown",
   "id": "7c263f5d-76e6-4c43-9bfb-21ab72da518f",
   "metadata": {},
   "source": [
    "### 2) Get Python™ version"
   ]
  },
  {
   "cell_type": "code",
   "execution_count": 2,
   "id": "7956214b-c46d-467f-87bb-ffe9f8432bd0",
   "metadata": {},
   "outputs": [
    {
     "name": "stdout",
     "output_type": "stream",
     "text": [
      "\n",
      "---------------------- Python Version and Installation -----------------------\n",
      "\n",
      "Python version:      3.11.7\n",
      "Python installation: 3.11.7 packaged by Anaconda, Inc.\n",
      "                     (main, Dec 15 2023, 18:05:47) [MSC v.1916 64 bit (AMD64)]\n"
     ]
    }
   ],
   "source": [
    "import sys\n",
    "\n",
    "python_version        = sys.version\n",
    "python_version_detail = python_version.split(\" | \",-1) # -1 gets all occurences. can set max number of splits\n",
    "\n",
    "str_title = ' Python Version and Installation '\n",
    "str_title = str_title.center(width_output, \"-\")\n",
    "print(\"\\n\" + str_title + \"\\n\")\n",
    "\n",
    "print(f'Python version:      {sys.version_info.major:d}.{sys.version_info.minor:d}.{sys.version_info.micro:d}')\n",
    "print(f'Python installation: {python_version_detail[0]:s} {python_version_detail[1]:s}')\n",
    "print(f'                     {python_version_detail[2]:s}')"
   ]
  },
  {
   "cell_type": "markdown",
   "id": "a3d4ab18-9312-4af3-8ba7-40f120054702",
   "metadata": {},
   "source": [
    "### 3) Verify GeoPandas and gdal installations"
   ]
  },
  {
   "cell_type": "code",
   "execution_count": 3,
   "id": "768bb1ae-4e33-4898-93cc-b3b9fd6e4ba2",
   "metadata": {},
   "outputs": [],
   "source": [
    "# conda install geopandas"
   ]
  },
  {
   "cell_type": "markdown",
   "id": "68870a12-7304-4375-9695-9efbb9710db5",
   "metadata": {},
   "source": [
    "### 4) Verify OpenCV installation"
   ]
  },
  {
   "cell_type": "code",
   "execution_count": 4,
   "id": "c0399125-e85a-4d8f-8a01-2122af1b9103",
   "metadata": {},
   "outputs": [
    {
     "name": "stdout",
     "output_type": "stream",
     "text": [
      "\n",
      "----------------------------------- OpenCV -----------------------------------\n",
      "\n",
      "OpenCV version:      4.9.0\n",
      "Test image:          3264 × 4896 pixels\n"
     ]
    }
   ],
   "source": [
    "\"\"\"\n",
    "    see: https://opencv.org/get-started/\n",
    "    pip3 install opencv-python\\\n",
    "    -> Successfully installed opencv-python-4.9.0.80\n",
    "    TODO: unclear if .dll needs to be copied as described in link above \n",
    "\"\"\"\n",
    "\n",
    "import cv2 as cv2\n",
    "\n",
    "f_name_jpg = r\".\" + os.sep + \"test_data\" + os.sep + \"JPEG\" + os.sep + \"IOCAM0_2019_GR_NASA_20190506-131614.4217.jpg\"\n",
    "image_bgr  = cv2.imread(f_name_jpg)\n",
    "# image      = cv2.cvtColor(image_bgr, cv2.COLOR_BGR2RGB)\n",
    "img_size   = image_bgr.shape\n",
    " \n",
    "str_title = ' OpenCV '\n",
    "str_title = str_title.center(width_output, \"-\")\n",
    "print(\"\\n\" + str_title + \"\\n\")\n",
    "print(f'OpenCV version:      {cv2.__version__:s}')\n",
    "print(f'Test image:          {img_size[0]:d} × {img_size[1]:d} pixels')"
   ]
  },
  {
   "cell_type": "markdown",
   "id": "b193f8c5-b441-479e-b669-1ad46bc06775",
   "metadata": {},
   "source": [
    "### 5) Verify Pytorch, Torchvision, and Torchaudio CPU only installation"
   ]
  },
  {
   "cell_type": "code",
   "execution_count": 5,
   "id": "72c6bd8a-cdb4-4d0f-9418-b532ea1d93bc",
   "metadata": {},
   "outputs": [
    {
     "name": "stdout",
     "output_type": "stream",
     "text": [
      "PyTorch version: 2.3.0\n",
      "Torchvision version: 0.18.0\n",
      "CUDA is available: False\n",
      "\n",
      "--------------------------- PyTorch & TorchVision ----------------------------\n",
      "\n",
      "PyTorch     version: 2.3.0\n",
      "Torchvision version: 0.18.0\n",
      "Processing  support: CPU\n"
     ]
    }
   ],
   "source": [
    "\"\"\"\n",
    "The SAM Python™ module requires PyTorch and TorchVision. The SAM installation instructions recommend installing\n",
    "both packages with CUDA support, however, if that causes error messages the solution is often to install\n",
    "both packages without CUDA support.\n",
    "\n",
    "    Recommended installation with CUDA support:\n",
    "    > conda install pytorch torchvision torchaudio pytorch-cuda=11.8 -c pytorch -c nvidia\n",
    "    Installation without CUDA support (CPU only):\n",
    "    > conda install pytorch torchvision torchaudio cpuonly -c pytorch\n",
    "    To install the SAM Python™ module use (see below):\n",
    "    pip install git+https://github.com/facebookresearch/segment-anything.git\n",
    "\n",
    "\"\"\"\n",
    "# verify the installation and check for CUDA support:\n",
    "\n",
    "import torch\n",
    "import torchvision\n",
    "print(\"PyTorch version:\", torch.__version__)\n",
    "print(\"Torchvision version:\", torchvision.__version__)\n",
    "print(\"CUDA is available:\", torch.cuda.is_available())\n",
    "\n",
    "# determine which processing unit to use\n",
    "if torch.cuda.is_available():\n",
    "    processing_unit = \"cuda\" # use graphics processing unit (GPU)\n",
    "else:    \n",
    "    processing_unit = \"cpu\"  # use central processing unit (CPU)\n",
    "    \n",
    "str_title = ' PyTorch & TorchVision '\n",
    "str_title = str_title.center(width_output, \"-\")\n",
    "print(\"\\n\" + str_title + \"\\n\")\n",
    "print(f'PyTorch     version: {torch.__version__:s}')\n",
    "print(f'Torchvision version: {torchvision.__version__:s}')\n",
    "print(f'Processing  support: {processing_unit.upper():s}')\n"
   ]
  },
  {
   "cell_type": "markdown",
   "id": "606f1a5d-e5f0-45e0-8f0f-e637620fb1f1",
   "metadata": {},
   "source": [
    "### 6) Verify Segment Anything Module (SAM) installation and import"
   ]
  },
  {
   "cell_type": "code",
   "execution_count": 6,
   "id": "1cb2c4c0-13dc-4c23-9822-8b80da2f0387",
   "metadata": {},
   "outputs": [
    {
     "name": "stdout",
     "output_type": "stream",
     "text": [
      "\n",
      "------------------------ Segment Anything Model (SAM) ------------------------\n",
      "\n",
      "Segment Anything:    segment_anything module is imported and in the sys.modules dictionary\n"
     ]
    }
   ],
   "source": [
    "\"\"\"\n",
    "    The SAM Python™ module requires PyTorch and TorchVision (see Section 5 above).\n",
    "    To install the SAM Python™ module use:\n",
    "    pip install git+https://github.com/facebookresearch/segment-anything.git\n",
    "\"\"\"\n",
    "\n",
    "import segment_anything\n",
    "    \n",
    "str_title = ' Segment Anything Model (SAM) '\n",
    "str_title = str_title.center(width_output, \"-\")\n",
    "print(\"\\n\" + str_title + \"\\n\")\n",
    "\n",
    "modulename = 'segment_anything'\n",
    "if modulename not in sys.modules:\n",
    "    print(f'Segment Anything:    ERROR: {modulename:s} module is unavailable')\n",
    "else:\n",
    "    print(f'Segment Anything:    {modulename:s} module is imported and in the sys.modules dictionary')"
   ]
  },
  {
   "cell_type": "markdown",
   "id": "231f3bf6-569f-4340-b5a7-edc160dd9469",
   "metadata": {},
   "source": [
    "### 7) Verify PYPRØJ installation"
   ]
  },
  {
   "cell_type": "markdown",
   "id": "6af33dd4-b954-424b-ace3-f56759fab416",
   "metadata": {},
   "source": [
    "PYPRØJ is a Python™ interface to PROJ, a cartographic projections and coordinate transformations library"
   ]
  },
  {
   "cell_type": "code",
   "execution_count": 7,
   "id": "4566c129-7593-4ced-bac1-bf6084805109",
   "metadata": {},
   "outputs": [
    {
     "name": "stdout",
     "output_type": "stream",
     "text": [
      "\n",
      "------------------------------ PYPRØJ & Shapely ------------------------------\n",
      "\n",
      "PYPRØJ       version: 9.3.1\n",
      "Shapely      version: 2.0.1\n",
      "PYPRØJ  verification: projected geographic coordinates to polar stereographic\n",
      "Shapely verification: calculated buffer area around point geometry\n"
     ]
    }
   ],
   "source": [
    "\"\"\"\n",
    "    PYPRØJ and shapely are installed as part of geopandas. If geopandas is not installed use:\n",
    "    pip install pyproj\n",
    "    Shapely is a Python™ package that uses the GEOS library to perform set-theoretic operations\n",
    "    on planar features. \n",
    "\"\"\"\n",
    "\n",
    "import pyproj\n",
    "import shapely\n",
    "import numpy as np\n",
    "from shapely import Point\n",
    "\n",
    "# verify PYPRØJ\n",
    "# EPSG:3413 NSIDC Sea Ice Polar Stereographic North/WGS-84 used for Greenland\n",
    "# EPSG:4326 WGS84 - World Geodetic System 1984, used in GPS \n",
    "geo2xy = pyproj.Transformer.from_crs(4326,3413)\n",
    "xy2geo = pyproj.Transformer.from_crs(3413,4326)\n",
    "xy     = geo2xy.transform(70.0, -45.0)\n",
    "lonlat = xy2geo.transform(xy[0],xy[1])\n",
    "\n",
    "# verify Shapely\n",
    "patch = Point(0.0, 0.0).buffer(1.0)\n",
    "path_area = patch.area # result should be Pi\n",
    "\n",
    "str_title = ' PYPRØJ & Shapely '\n",
    "str_title = str_title.center(width_output, \"-\")\n",
    "print(\"\\n\" + str_title + \"\\n\")\n",
    "\n",
    "print(f'PYPRØJ       version: {pyproj.proj_version_str:s}')\n",
    "print(f'Shapely      version: {shapely.__version__:s}')\n",
    "if lonlat[1] == -45:\n",
    "    print('PYPRØJ  verification: projected geographic coordinates to polar stereographic')\n",
    "if (np.isfinite(path_area)) & (path_area > 0):\n",
    "    print('Shapely verification: calculated buffer area around point geometry')"
   ]
  },
  {
   "cell_type": "markdown",
   "id": "ce7f6348-784a-459d-bf05-2e765c8c6d70",
   "metadata": {},
   "source": [
    "### 8) Verify PyCRS installation"
   ]
  },
  {
   "cell_type": "markdown",
   "id": "08bba4f0-adf1-4932-a111-51ebd97ca232",
   "metadata": {},
   "source": [
    "PyCRS is a pure Python GIS package for reading, writing, and converting between various common coordinate reference system (CRS) string and data source formats."
   ]
  },
  {
   "cell_type": "code",
   "execution_count": 8,
   "id": "5c95fe6a-6d10-4efc-8565-2d25d2fbf474",
   "metadata": {},
   "outputs": [
    {
     "name": "stdout",
     "output_type": "stream",
     "text": [
      "\n",
      "--------------------------------- PyCRS GIS ----------------------------------\n",
      "\n",
      "PyCRS       version: 1.0.2\n"
     ]
    }
   ],
   "source": [
    "import pycrs \n",
    "str_title = ' PyCRS GIS '\n",
    "str_title = str_title.center(width_output, \"-\")\n",
    "print(\"\\n\" + str_title + \"\\n\")\n",
    "\n",
    "print(f'PyCRS       version: {pycrs.__version__:s}')\n"
   ]
  },
  {
   "cell_type": "markdown",
   "id": "d7f5fbf9-1be1-435d-bc23-777dd99aa5d2",
   "metadata": {},
   "source": [
    "### 9) Verify PyMap3D  installation"
   ]
  },
  {
   "cell_type": "markdown",
   "id": "027c37c6-21cf-4f8c-a6ae-bf7dcde00e72",
   "metadata": {},
   "source": [
    "PyMap3D is a Python™ (optional Numpy) toolbox for 3D geographic coordinate transformations"
   ]
  },
  {
   "cell_type": "code",
   "execution_count": 9,
   "id": "3f68e5be-accc-49cf-8fb1-86472198d087",
   "metadata": {},
   "outputs": [
    {
     "name": "stdout",
     "output_type": "stream",
     "text": [
      "\n",
      "---------------------------------- PyMap3D -----------------------------------\n",
      "\n",
      "PyMap3D     version: 3.1.0\n"
     ]
    }
   ],
   "source": [
    "\"\"\"\n",
    "    PyMap3D is a Python™ (optional Numpy) toolbox for 3D geographic coordinate transformations and geodesy.\n",
    "    It supports various coordinate systems, ellipsoids, and Vincenty functions, and has a similar syntax \n",
    "    to the MATLAB®  Mapping Toolbox.\n",
    "    Installation: conda install -c conda-forge pymap3d\n",
    "\"\"\"\n",
    "import pymap3d\n",
    "\n",
    "str_title = ' PyMap3D '\n",
    "str_title = str_title.center(width_output, \"-\")\n",
    "print(\"\\n\" + str_title + \"\\n\")\n",
    "print(f'PyMap3D     version: {pymap3d.__version__:s}') "
   ]
  },
  {
   "cell_type": "markdown",
   "id": "69760a17-3b72-4b03-8673-a8625cd78e58",
   "metadata": {},
   "source": [
    "### 10) Verify Python™ implementation of Scientific Colour Maps"
   ]
  },
  {
   "cell_type": "code",
   "execution_count": 10,
   "id": "dedb0089-47d0-4a47-826c-ab31c1c64a08",
   "metadata": {},
   "outputs": [
    {
     "name": "stdout",
     "output_type": "stream",
     "text": [
      "\n",
      "------------ Python™ implementation of the Scientific Colour Maps ------------\n",
      "\n",
      "cmcrameri   version: 1.8\n"
     ]
    }
   ],
   "source": [
    "\"\"\"\n",
    "    Python™ implementation of the Scientific Colour Maps version 8.0 (2023-06-14).\n",
    "    Installation: conda install -c conda-forge cmcrameri\n",
    "\"\"\"\n",
    "import cmcrameri\n",
    "\n",
    "str_title = ' Python™ implementation of the Scientific Colour Maps '\n",
    "str_title = str_title.center(width_output, \"-\")\n",
    "print(\"\\n\" + str_title + \"\\n\")\n",
    "print(f'cmcrameri   version: {cmcrameri.__version__:s}') \n"
   ]
  }
 ],
 "metadata": {
  "kernelspec": {
   "display_name": "Python 3 (ipykernel)",
   "language": "python",
   "name": "python3"
  },
  "language_info": {
   "codemirror_mode": {
    "name": "ipython",
    "version": 3
   },
   "file_extension": ".py",
   "mimetype": "text/x-python",
   "name": "python",
   "nbconvert_exporter": "python",
   "pygments_lexer": "ipython3",
   "version": "3.11.7"
  }
 },
 "nbformat": 4,
 "nbformat_minor": 5
}
