{
 "cells": [
  {
   "cell_type": "markdown",
   "id": "9d011ac6-e92d-40ac-bcfa-52ac75002628",
   "metadata": {},
   "source": [
    "# <div align=\"center\">Python™ for Earth Scientists</div> \n",
    "### <div align=\"center\">Installation Instructions and Verification</div>"
   ]
  },
  {
   "cell_type": "markdown",
   "id": "d23fc2f6-b829-4d68-9a63-72edef8fecfc",
   "metadata": {},
   "source": [
    "This Jupyter notebook contains instructions for installing essential Python™ packages for Earth scientists and tests the functionality of the installed packages. This Jupyter notebook and the orresponding Python™ script have been tested under:  \n",
    "* Windows 11 Pro (23H2)        Python™ 3.11.7\n",
    "* Windows 10 Enterprise (21H2) Python™ 3.9.13\n",
    "* Linux Ubuntu 22.04.2 on WSL2 Python™ 3.11.7 (selected elements)"
   ]
  },
  {
   "cell_type": "markdown",
   "id": "4d13d951-2317-4197-b079-cc11048d17f0",
   "metadata": {},
   "source": [
    "### First, determine if code is executed from a classic Jupyter Notebook, JupyterLab, or Python™"
   ]
  },
  {
   "cell_type": "code",
   "execution_count": 14,
   "id": "3c308bb7-7f9d-4f21-bfea-2544f4bad9d4",
   "metadata": {},
   "outputs": [
    {
     "name": "stdout",
     "output_type": "stream",
     "text": [
      "\n",
      "---------------------- Determine Computing Environment -----------------------\n",
      "\n",
      "Environment: JupyterLab\n"
     ]
    }
   ],
   "source": [
    "import psutil\n",
    "width_output = 78 # number of characters for output \n",
    "parent_process = psutil.Process().parent().cmdline()[-1]\n",
    "\n",
    "str_title = ' Determine Computing Environment '\n",
    "str_title = str_title.center(width_output, \"-\")\n",
    "print(\"\\n\" + str_title + \"\\n\")\n",
    "\n",
    "if 'jupyter-lab' in parent_process:\n",
    "    print('Environment: JupyterLab')\n",
    "    ENVIRONMENT = \"Jupyterlab\"\n",
    "elif 'jupyter-notebook' in parent_process:\n",
    "    print('Environment: Jupyter Notebook')\n",
    "    ENVIRONMENT = \"Jupyternotebook\"\n",
    "elif \"spyder-script.py\" in parent_process:\n",
    "    ENVIRONMENT = \"Python\"\n",
    "elif parent_process == \"-bash\":\n",
    "    print('Environment: Python™ on Linux (command line)')\n",
    "    ENVIRONMENT = \"Python\"\n",
    "elif \"anaconda3\" in parent_process:\n",
    "    print('Environment: Python™ on Windows (command line)')\n",
    "    ENVIRONMENT = \"Python\"\n",
    "else:\n",
    "    print('Environment: Python™')\n",
    "    ENVIRONMENT = \"Python\""
   ]
  },
  {
   "cell_type": "markdown",
   "id": "4e3fceaf-e262-4988-bfb9-57df0318fd8a",
   "metadata": {},
   "source": [
    "### 1) Get name of computer and operating system information"
   ]
  },
  {
   "cell_type": "code",
   "execution_count": 15,
   "id": "d7b39f4f-db69-4977-99ec-31d8cb191f64",
   "metadata": {},
   "outputs": [
    {
     "name": "stdout",
     "output_type": "stream",
     "text": [
      "\n",
      "----------------------- Platform and Operating System ------------------------\n",
      "\n",
      "Computer:         gs615-aerogeo\n",
      "Operating system: Windows NT Release: 10\n"
     ]
    }
   ],
   "source": [
    "# get computer name and OS\n",
    "import os\n",
    "import socket\n",
    "import platform\n",
    "\n",
    "str_title = ' Platform and Operating System '\n",
    "str_title = str_title.center(width_output, \"-\")\n",
    "print(\"\\n\" + str_title + \"\\n\")\n",
    "\n",
    "print(f'Computer:         {socket.gethostname():s}')\n",
    "print(f'Operating system: {platform.system():s} {os.name.upper():s} Release: {platform.release():s}')"
   ]
  },
  {
   "cell_type": "markdown",
   "id": "7c263f5d-76e6-4c43-9bfb-21ab72da518f",
   "metadata": {},
   "source": [
    "### 2) Get Python™ version"
   ]
  },
  {
   "cell_type": "code",
   "execution_count": 16,
   "id": "7956214b-c46d-467f-87bb-ffe9f8432bd0",
   "metadata": {},
   "outputs": [
    {
     "name": "stdout",
     "output_type": "stream",
     "text": [
      "\n",
      "---------------------- Python™ Version and Installation ----------------------\n",
      "\n",
      "Python™ version:      3.9.13\n",
      "JupyterLab version:   3.4.4\n"
     ]
    }
   ],
   "source": [
    "import sys\n",
    "import jupyterlab\n",
    "\n",
    "python_version        = sys.version\n",
    "python_version_detail = python_version.split(\" | \",-1) # -1 gets all occurences. can set max number of splits\n",
    "\n",
    "str_title = ' Python™ Version and Installation '\n",
    "str_title = str_title.center(width_output, \"-\")\n",
    "print(\"\\n\" + str_title + \"\\n\")\n",
    "\n",
    "print(f'Python™ version:      {sys.version_info.major:d}.{sys.version_info.minor:d}.{sys.version_info.micro:d}')\n",
    "if len(python_version_detail) == 3:\n",
    "    print(f'Python™ installation: {python_version_detail[0]:s} {python_version_detail[1]:s}')\n",
    "    print(f'                      {python_version_detail[2]:s}')\n",
    "print(f'JupyterLab version:   {jupyterlab.__version__:s}')\n"
   ]
  },
  {
   "cell_type": "markdown",
   "id": "a3d4ab18-9312-4af3-8ba7-40f120054702",
   "metadata": {},
   "source": [
    "### 3) Verify GeoPandas & GDAL/Python™ installations"
   ]
  },
  {
   "cell_type": "code",
   "execution_count": 17,
   "id": "768bb1ae-4e33-4898-93cc-b3b9fd6e4ba2",
   "metadata": {},
   "outputs": [
    {
     "name": "stdout",
     "output_type": "stream",
     "text": [
      "\n",
      "-------------------------- GeoPandas & GDAL/Python™ --------------------------\n",
      "\n",
      "GeoPandas    version:      0.12.2\n",
      "GDAL/Python™ version:      3.0.2\n",
      "geodatasets  version:      2023.12.0\n",
      "GDAL/Python™ verification: GeoTiff projection information contains \"Polar_Stereographic\"\n",
      "GeoPandas    verification: GeoPandas DataFrame has attribute \"area\"\n"
     ]
    }
   ],
   "source": [
    "\"\"\"\n",
    "    Installation: conda install geopandas\n",
    "    Installation: conda install geodatasets -c conda-forge # used for testing\n",
    "\"\"\"\n",
    "import warnings\n",
    "warnings.filterwarnings(\"ignore\", module=\"gdal\")        # suppresses all warnings from gdal module\n",
    "warnings.filterwarnings(\"ignore\", module=\"geodatasets\") # suppresses all warnings from geodatasets module\n",
    "warnings.filterwarnings(\"ignore\", category=DeprecationWarning)\n",
    "\n",
    "if (ENVIRONMENT == \"Jupyterlab\" or ENVIRONMENT == \"Jupyternotbook\") and (sys.version_info.minor > 9):\n",
    "    print(\"WARNING: GeoPandas & GDAL/Python™ installations have been verified to work with Xarray in Python™.\")\n",
    "    print(\"         For reasons that are unclear they produce an errror when executed from JupyterLab or \\n         Jupyter Notebook after Xarray is installed.\")\n",
    "    print(f'         => Skipping GeoPandas & GDAL/Python™ verification since code is executed from {ENVIRONMENT:s}.')\n",
    "elif (ENVIRONMENT == \"Jupyterlab\" and (sys.version_info.minor <= 9)) or (ENVIRONMENT == \"Python\"):\n",
    "    import geodatasets\n",
    "    import geopandas\n",
    "    import geopandas as gdp\n",
    "    from   osgeo import gdal\n",
    "    from   geodatasets import get_path\n",
    "    str_title = ' GeoPandas & GDAL/Python™ '\n",
    "    str_title = str_title.center(width_output, \"-\")\n",
    "    print(\"\\n\" + str_title + \"\\n\")\n",
    "    print(f'GeoPandas    version:      {gdp.__version__:s}')\n",
    "    print(f'GDAL/Python™ version:      {gdal.__version__:s}')\n",
    "    print(f'geodatasets  version:      {geodatasets.__version__:s}')\n",
    "    \n",
    "    # verify GeoPandas\n",
    "    path_to_data = get_path(\"nybb\")\n",
    "    gdf = geopandas.read_file(path_to_data)\n",
    "    \n",
    "    # verify modules\n",
    "    f_name_geotiff = r\".\" + os.sep + \"test_data\" + os.sep + \"GEOTIFF\" + os.sep + \"IOCAM1B_2019_GR_NASA_20190506-131614.4217.tif\"\n",
    "    \n",
    "    cambot = gdal.Open(f_name_geotiff)\n",
    "    cambot_proj = cambot.GetProjection()\n",
    "    \n",
    "    if \"Polar_Stereographic\" in cambot_proj:\n",
    "        print('GDAL/Python™ verification: GeoTiff projection information contains \"Polar_Stereographic\"')\n",
    "    else:\n",
    "        print('GDAL/Python™ verification: ERROR: GeoTiff projection information could not be read')\n",
    "    \n",
    "    # verify GeoPandas\n",
    "    if hasattr(gdf, 'area'):\n",
    "      print('GeoPandas    verification: GeoPandas DataFrame has attribute \"area\"')\n",
    "      # print(gdf)\n",
    "    else:\n",
    "      print('GeoPandas    verification: ERROR: GeoPandas DataFrame has no attribute \"area\"')\n",
    "else:\n",
    "    os.sys.exit(\"Computing environment is not supported. Abort.\")"
   ]
  },
  {
   "cell_type": "markdown",
   "id": "68870a12-7304-4375-9695-9efbb9710db5",
   "metadata": {},
   "source": [
    "### 4) Verify OpenCV installation"
   ]
  },
  {
   "cell_type": "code",
   "execution_count": 18,
   "id": "c0399125-e85a-4d8f-8a01-2122af1b9103",
   "metadata": {},
   "outputs": [
    {
     "name": "stdout",
     "output_type": "stream",
     "text": [
      "\n",
      "----------------------------------- OpenCV -----------------------------------\n",
      "\n",
      "OpenCV version:      4.8.0\n",
      "Test image:          3264 × 4896 pixels\n"
     ]
    }
   ],
   "source": [
    "\"\"\"\n",
    "    see: https://opencv.org/get-started/\n",
    "    pip3 install opencv-python\n",
    "    -> Successfully installed opencv-python-4.9.0.80\n",
    "    TODO: unclear if .dll needs to be copied as described in link above \n",
    "\"\"\"\n",
    "import cv2 as cv2\n",
    "import pathlib\n",
    "\n",
    "if platform.system() == \"Windows\":\n",
    "    f_name_jpg = pathlib.Path(r\"./test_data/JPEG/IOCAM0_2019_GR_NASA_20190506-131614.4217.jpg\")\n",
    "elif platform.system() == 'Linux':\n",
    "    f_name_jpg = pathlib.Path(r\"./test_data/JPEG/IOCAM0_2019_GR_NASA_20190506-131614.4217.jpg\")\n",
    "\n",
    "image_bgr  = cv2.imread(str(f_name_jpg))\n",
    "# image      = cv2.cvtColor(image_bgr, cv2.COLOR_BGR2RGB)\n",
    "img_size   = image_bgr.shape\n",
    " \n",
    "str_title = ' OpenCV '\n",
    "str_title = str_title.center(width_output, \"-\")\n",
    "print(\"\\n\" + str_title + \"\\n\")\n",
    "print(f'OpenCV version:      {cv2.__version__:s}')\n",
    "print(f'Test image:          {img_size[0]:d} × {img_size[1]:d} pixels')"
   ]
  },
  {
   "cell_type": "markdown",
   "id": "b193f8c5-b441-479e-b669-1ad46bc06775",
   "metadata": {},
   "source": [
    "### 5) Verify Pytorch, Torchvision, and Torchaudio CPU only installation"
   ]
  },
  {
   "cell_type": "code",
   "execution_count": 19,
   "id": "72c6bd8a-cdb4-4d0f-9418-b532ea1d93bc",
   "metadata": {},
   "outputs": [
    {
     "name": "stdout",
     "output_type": "stream",
     "text": [
      "\n",
      "--------------------------- PyTorch & TorchVision ----------------------------\n",
      "\n",
      "PyTorch     version: 2.3.0\n",
      "Torchvision version: 0.18.0\n",
      "Processing  support: CPU\n"
     ]
    }
   ],
   "source": [
    "\"\"\"\n",
    "The SAM Python™ module requires PyTorch and TorchVision. The SAM installation instructions recommend installing\n",
    "both packages with CUDA support, however, if that causes error messages the solution is often to install\n",
    "both packages without CUDA support.\n",
    "\n",
    "    Recommended installation with CUDA support:\n",
    "    > conda install pytorch torchvision torchaudio pytorch-cuda=11.8 -c pytorch -c nvidia\n",
    "    Installation without CUDA support (CPU only):\n",
    "    > conda install pytorch torchvision torchaudio cpuonly -c pytorch\n",
    "    To install the SAM Python™ module use (see below):\n",
    "    pip install git+https://github.com/facebookresearch/segment-anything.git\n",
    "\n",
    "\"\"\"\n",
    "# verify the installation and check for CUDA support:\n",
    "import torch\n",
    "import torchvision\n",
    "\n",
    "# determine which processing unit to use\n",
    "if torch.cuda.is_available():\n",
    "    processing_unit = \"cuda\" # use graphics processing unit (GPU)\n",
    "else:    \n",
    "    processing_unit = \"cpu\"  # use central processing unit (CPU)\n",
    "    \n",
    "str_title = ' PyTorch & TorchVision '\n",
    "str_title = str_title.center(width_output, \"-\")\n",
    "print(\"\\n\" + str_title + \"\\n\")\n",
    "print(f'PyTorch     version: {torch.__version__:s}')\n",
    "print(f'Torchvision version: {torchvision.__version__:s}')\n",
    "print(f'Processing  support: {processing_unit.upper():s}')"
   ]
  },
  {
   "cell_type": "markdown",
   "id": "606f1a5d-e5f0-45e0-8f0f-e637620fb1f1",
   "metadata": {},
   "source": [
    "### 6) Verify Segment Anything Model (SAM) installation and import"
   ]
  },
  {
   "cell_type": "code",
   "execution_count": 20,
   "id": "1cb2c4c0-13dc-4c23-9822-8b80da2f0387",
   "metadata": {},
   "outputs": [
    {
     "name": "stdout",
     "output_type": "stream",
     "text": [
      "\n",
      "------------------------ Segment Anything Model (SAM) ------------------------\n",
      "\n",
      "Segment Anything: segment_anything module is imported and in the sys.modules dictionary\n"
     ]
    }
   ],
   "source": [
    "\"\"\"\n",
    "    The SAM Python™ module requires PyTorch and TorchVision (see Section 5 above).\n",
    "    To install the SAM Python™ module use:\n",
    "    pip install git+https://github.com/facebookresearch/segment-anything.git\n",
    "\"\"\"\n",
    "import segment_anything\n",
    "    \n",
    "str_title = ' Segment Anything Model (SAM) '\n",
    "str_title = str_title.center(width_output, \"-\")\n",
    "print(\"\\n\" + str_title + \"\\n\")\n",
    "\n",
    "modulename = 'segment_anything'\n",
    "if modulename not in sys.modules:\n",
    "    print(f'Segment Anything: ERROR: {modulename:s} module is unavailable')\n",
    "else:\n",
    "    print(f'Segment Anything: {modulename:s} module is imported and in the sys.modules dictionary')"
   ]
  },
  {
   "cell_type": "markdown",
   "id": "231f3bf6-569f-4340-b5a7-edc160dd9469",
   "metadata": {},
   "source": [
    "### 7) Verify PYPRØJ installation"
   ]
  },
  {
   "cell_type": "markdown",
   "id": "6af33dd4-b954-424b-ace3-f56759fab416",
   "metadata": {},
   "source": [
    "PYPRØJ is a Python™ interface to PROJ, a cartographic projections and coordinate transformations library"
   ]
  },
  {
   "cell_type": "code",
   "execution_count": 21,
   "id": "4566c129-7593-4ced-bac1-bf6084805109",
   "metadata": {},
   "outputs": [
    {
     "name": "stdout",
     "output_type": "stream",
     "text": [
      "\n",
      "------------------------------ PYPRØJ & Shapely ------------------------------\n",
      "\n",
      "PYPRØJ       version: 6.2.1\n",
      "Shapely      version: 2.0.1\n",
      "PYPRØJ  verification: projected geographic coordinates to polar stereographic\n",
      "Shapely verification: calculated buffer area around point geometry\n"
     ]
    }
   ],
   "source": [
    "\"\"\"\n",
    "    PYPRØJ and shapely are installed as part of geopandas. If geopandas is not installed use:\n",
    "    pip install pyproj\n",
    "    Shapely is a Python™ package that uses the GEOS library to perform set-theoretic operations\n",
    "    on planar features. \n",
    "\"\"\"\n",
    "import pyproj\n",
    "import shapely\n",
    "import numpy as np\n",
    "from  shapely import Point\n",
    "\n",
    "# verify PYPRØJ\n",
    "# EPSG:3413 NSIDC Sea Ice Polar Stereographic North/WGS-84 used for Greenland\n",
    "# EPSG:4326 WGS84 - World Geodetic System 1984, used in GPS \n",
    "geo2xy = pyproj.Transformer.from_crs(4326,3413)\n",
    "xy2geo = pyproj.Transformer.from_crs(3413,4326)\n",
    "xy     = geo2xy.transform(70.0, -45.0)\n",
    "lonlat = xy2geo.transform(xy[0],xy[1])\n",
    "\n",
    "# verify Shapely\n",
    "patch = Point(0.0, 0.0).buffer(1.0)\n",
    "path_area = patch.area # result should be Pi\n",
    "\n",
    "str_title = ' PYPRØJ & Shapely '\n",
    "str_title = str_title.center(width_output, \"-\")\n",
    "print(\"\\n\" + str_title + \"\\n\")\n",
    "\n",
    "print(f'PYPRØJ       version: {pyproj.proj_version_str:s}')\n",
    "print(f'Shapely      version: {shapely.__version__:s}')\n",
    "if lonlat[1] == -45:\n",
    "    print('PYPRØJ  verification: projected geographic coordinates to polar stereographic')\n",
    "if (np.isfinite(path_area)) & (path_area > 0):\n",
    "    print('Shapely verification: calculated buffer area around point geometry')"
   ]
  },
  {
   "cell_type": "markdown",
   "id": "ce7f6348-784a-459d-bf05-2e765c8c6d70",
   "metadata": {},
   "source": [
    "### 8) Verify PyCRS installation"
   ]
  },
  {
   "cell_type": "markdown",
   "id": "08bba4f0-adf1-4932-a111-51ebd97ca232",
   "metadata": {},
   "source": [
    "PyCRS is a pure Python GIS package for reading, writing, and converting between various common coordinate reference system (CRS) string and data source formats."
   ]
  },
  {
   "cell_type": "code",
   "execution_count": 22,
   "id": "5c95fe6a-6d10-4efc-8565-2d25d2fbf474",
   "metadata": {},
   "outputs": [
    {
     "name": "stdout",
     "output_type": "stream",
     "text": [
      "\n",
      "--------------------------------- PyCRS GIS ----------------------------------\n",
      "\n",
      "PyCRS version: 1.0.2\n"
     ]
    }
   ],
   "source": [
    "import pycrs \n",
    "str_title = ' PyCRS GIS '\n",
    "str_title = str_title.center(width_output, \"-\")\n",
    "print(\"\\n\" + str_title + \"\\n\")\n",
    "\n",
    "print(f'PyCRS version: {pycrs.__version__:s}')\n"
   ]
  },
  {
   "cell_type": "markdown",
   "id": "d7f5fbf9-1be1-435d-bc23-777dd99aa5d2",
   "metadata": {},
   "source": [
    "### 9) Verify PyMap3D  installation"
   ]
  },
  {
   "cell_type": "markdown",
   "id": "027c37c6-21cf-4f8c-a6ae-bf7dcde00e72",
   "metadata": {},
   "source": [
    "PyMap3D is a Python™ (optional Numpy) toolbox for 3D geographic coordinate transformations"
   ]
  },
  {
   "cell_type": "code",
   "execution_count": 23,
   "id": "3f68e5be-accc-49cf-8fb1-86472198d087",
   "metadata": {},
   "outputs": [
    {
     "name": "stdout",
     "output_type": "stream",
     "text": [
      "\n",
      "---------------------------------- PyMap3D -----------------------------------\n",
      "\n",
      "PyMap3D version: 3.0.1\n"
     ]
    }
   ],
   "source": [
    "\"\"\"\n",
    "    PyMap3D is a Python™ (optional Numpy) toolbox for 3D geographic coordinate transformations and geodesy.\n",
    "    It supports various coordinate systems, ellipsoids, and Vincenty functions, and has a similar syntax \n",
    "    to the MATLAB®  Mapping Toolbox.\n",
    "    Installation: conda install -c conda-forge pymap3d\n",
    "\"\"\"\n",
    "import pymap3d\n",
    "\n",
    "str_title = ' PyMap3D '\n",
    "str_title = str_title.center(width_output, \"-\")\n",
    "print(\"\\n\" + str_title + \"\\n\")\n",
    "print(f'PyMap3D version: {pymap3d.__version__:s}') "
   ]
  },
  {
   "cell_type": "markdown",
   "id": "69760a17-3b72-4b03-8673-a8625cd78e58",
   "metadata": {},
   "source": [
    "### 10) Verify Python™ implementation of Scientific Colour Maps"
   ]
  },
  {
   "cell_type": "code",
   "execution_count": 24,
   "id": "dedb0089-47d0-4a47-826c-ab31c1c64a08",
   "metadata": {},
   "outputs": [
    {
     "name": "stdout",
     "output_type": "stream",
     "text": [
      "\n",
      "------------ Python™ implementation of the Scientific Colour Maps ------------\n",
      "\n",
      "cmcrameri version: 1.4\n"
     ]
    }
   ],
   "source": [
    "\"\"\"\n",
    "    Python™ implementation of the Scientific Colour Maps version 8.0 (2023-06-14).\n",
    "    Installation: conda install -c conda-forge cmcrameri\n",
    "\"\"\"\n",
    "import cmcrameri\n",
    "\n",
    "str_title = ' Python™ implementation of the Scientific Colour Maps '\n",
    "str_title = str_title.center(width_output, \"-\")\n",
    "print(\"\\n\" + str_title + \"\\n\")\n",
    "print(f'cmcrameri version: {cmcrameri.__version__:s}') \n"
   ]
  },
  {
   "cell_type": "markdown",
   "id": "059f9bcc-d819-4fa9-a4e7-43faa1796b77",
   "metadata": {},
   "source": [
    "### 11) Verify laspy & lazrs-python installation"
   ]
  },
  {
   "cell_type": "code",
   "execution_count": 25,
   "id": "6bce5ff5-9ba2-4cdc-85a1-6963b5d7a854",
   "metadata": {},
   "outputs": [
    {
     "name": "stdout",
     "output_type": "stream",
     "text": [
      "\n",
      "---------------------------- laspy & lazrs-python ----------------------------\n",
      "\n",
      "laspy version: 2.4.1\n"
     ]
    }
   ],
   "source": [
    "\"\"\"\n",
    "    laspy is a Python™ module that reads and writes LAS and LAZ files, which are common formats for lidar pointcloud and full waveform data.\n",
    "    Installation: conda install -c conda-forge laspy\n",
    "    See also: https://github.com/LAStools/LAStools\n",
    "\"\"\"\n",
    "import laspy\n",
    "\n",
    "str_title = ' laspy & lazrs-python '\n",
    "str_title = str_title.center(width_output, \"-\")\n",
    "print(\"\\n\" + str_title + \"\\n\")\n",
    "print(f'laspy version: {laspy.__version__:s}') "
   ]
  },
  {
   "cell_type": "markdown",
   "id": "f56e12f0-2593-4630-86ff-e5c2f62c6e94",
   "metadata": {},
   "source": [
    "### 12) Verify Xarray installation"
   ]
  },
  {
   "cell_type": "code",
   "execution_count": 26,
   "id": "ec7442c2-7204-4bd3-a3e3-5d775d2f8cce",
   "metadata": {},
   "outputs": [
    {
     "name": "stdout",
     "output_type": "stream",
     "text": [
      "\n",
      "----------------------------------- Xarray -----------------------------------\n",
      "\n",
      "Xarray version: 0.20.1\n"
     ]
    }
   ],
   "source": [
    "# Xarray\n",
    "\"\"\"\n",
    "    Xarray is a Python™ library that provides a common interface for working with n-dimensional arrays and datasets.\n",
    "    Installation: conda install -c conda-forge xarray dask netCDF4 bottleneck\n",
    "\"\"\"\n",
    "import xarray\n",
    "\n",
    "str_title = ' Xarray '\n",
    "str_title = str_title.center(width_output, \"-\")\n",
    "print(\"\\n\" + str_title + \"\\n\")\n",
    "print(f'Xarray version: {xarray.__version__:s}')"
   ]
  }
 ],
 "metadata": {
  "kernelspec": {
   "display_name": "Python 3 (ipykernel)",
   "language": "python",
   "name": "python3"
  },
  "language_info": {
   "codemirror_mode": {
    "name": "ipython",
    "version": 3
   },
   "file_extension": ".py",
   "mimetype": "text/x-python",
   "name": "python",
   "nbconvert_exporter": "python",
   "pygments_lexer": "ipython3",
   "version": "3.9.13"
  }
 },
 "nbformat": 4,
 "nbformat_minor": 5
}
